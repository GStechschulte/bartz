{
  "nbformat": 4,
  "nbformat_minor": 0,
  "metadata": {
    "colab": {
      "provenance": [],
      "gpuType": "T4"
    },
    "kernelspec": {
      "name": "python3",
      "display_name": "Python 3"
    },
    "language_info": {
      "name": "python"
    },
    "accelerator": "GPU"
  },
  "cells": [
    {
      "cell_type": "code",
      "source": [
        "%pip install bartz"
      ],
      "metadata": {
        "colab": {
          "base_uri": "https://localhost:8080/"
        },
        "id": "gAIYdaOqXP5g",
        "outputId": "637190bb-e1b9-4853-da2c-045497b46fd3"
      },
      "execution_count": null,
      "outputs": [
        {
          "output_type": "stream",
          "name": "stdout",
          "text": [
            "Requirement already satisfied: bartz in /usr/local/lib/python3.10/dist-packages (0.4.0)\n",
            "Requirement already satisfied: jax<0.5.0,>=0.4.23 in /usr/local/lib/python3.10/dist-packages (from bartz) (0.4.26)\n",
            "Requirement already satisfied: jaxlib<0.5.0,>=0.4.23 in /usr/local/lib/python3.10/dist-packages (from bartz) (0.4.26+cuda12.cudnn89)\n",
            "Requirement already satisfied: numpy<2.0.0,>=1.25.2 in /usr/local/lib/python3.10/dist-packages (from bartz) (1.25.2)\n",
            "Requirement already satisfied: scipy<2.0.0,>=1.11.4 in /usr/local/lib/python3.10/dist-packages (from bartz) (1.11.4)\n",
            "Requirement already satisfied: ml-dtypes>=0.2.0 in /usr/local/lib/python3.10/dist-packages (from jax<0.5.0,>=0.4.23->bartz) (0.2.0)\n",
            "Requirement already satisfied: opt-einsum in /usr/local/lib/python3.10/dist-packages (from jax<0.5.0,>=0.4.23->bartz) (3.3.0)\n"
          ]
        }
      ]
    },
    {
      "cell_type": "markdown",
      "source": [
        "The next cell tells JAX to use all and only 95% of the GPU memory:"
      ],
      "metadata": {
        "id": "jfDOl1RlfoKx"
      }
    },
    {
      "cell_type": "code",
      "execution_count": null,
      "metadata": {
        "id": "n3kjX0pvXOWc"
      },
      "outputs": [],
      "source": [
        "import os\n",
        "os.environ['XLA_PYTHON_CLIENT_MEM_FRACTION'] = '.95'"
      ]
    },
    {
      "cell_type": "markdown",
      "source": [
        "The next cell runs bartz on simulated data. The DGP is $y_i=X_{ij}\\beta_j + A_{jk}X_{ij}X_{ik} + \\varepsilon_i$, where the matrix $A$ is sparse."
      ],
      "metadata": {
        "id": "kN-fpqLVfz-M"
      }
    },
    {
      "cell_type": "code",
      "source": [
        "import functools\n",
        "import time\n",
        "\n",
        "import jax\n",
        "from jax import numpy as jnp\n",
        "from jax import random\n",
        "import bartz\n",
        "\n",
        "n_train = 100_000\n",
        "n_test = 1000\n",
        "p = 1000\n",
        "n_tree = 10_000\n",
        "\n",
        "@functools.partial(jax.jit, static_argnums=(1, 2))\n",
        "def simulate_data(key, n, p, max_interactions):\n",
        "\n",
        "    # split random key\n",
        "    keys = list(random.split(key, 4))\n",
        "\n",
        "    # generate matrices\n",
        "    X = random.normal(keys.pop(), (p, n))\n",
        "    beta = random.normal(keys.pop(), (p,))\n",
        "    A = random.normal(keys.pop(), (p, p))\n",
        "    error = random.normal(keys.pop(), (n,))\n",
        "\n",
        "    # make A banded to limit the number of interactions\n",
        "    num_nonzero = 1 + (max_interactions - 1) // 2\n",
        "    num_nonzero = jnp.clip(num_nonzero, 0, p)\n",
        "    interaction_pattern = jnp.arange(p) < num_nonzero\n",
        "    multi_roll = jax.vmap(jnp.roll, in_axes=(None, 0))\n",
        "    nonzero = multi_roll(interaction_pattern, jnp.arange(p))\n",
        "    A *= nonzero\n",
        "    A /= jnp.sqrt(num_nonzero)\n",
        "\n",
        "    # compute response\n",
        "    y = beta @ X + jnp.einsum('ai,bi,ab->i', X, X, A) + error\n",
        "\n",
        "    return X, y\n",
        "\n",
        "# seeds for random sampling\n",
        "keys = list(random.split(random.key(202404161853), 2))\n",
        "\n",
        "# generate the data on CPU\n",
        "cpu = jax.devices('cpu')[0]\n",
        "key = jax.device_put(keys.pop(), cpu)\n",
        "X, y = simulate_data(key, n_train + n_test, p, 5)\n",
        "X_train, y_train = X[:, :n_train], y[:n_train]\n",
        "X_test, y_test = X[:, n_train:], y[n_train:]\n",
        "\n",
        "# move the data to GPU (if present)\n",
        "device = jax.devices()[0]\n",
        "X_train, y_train, X_test, y_test = jax.device_put((X_train, y_train, X_test, y_test), device)\n",
        "\n",
        "start = time.perf_counter()\n",
        "bart = bartz.BART.gbart(X_train, y_train, ntree=n_tree, printevery=10, seed=keys.pop())\n",
        "end = time.perf_counter()\n",
        "\n",
        "yhat_test_mean = bart.predict(X_test).mean(axis=0)\n",
        "rmse = jnp.sqrt(jnp.mean(jnp.square(yhat_test_mean - y_test)))\n",
        "print(f'RMSE: {rmse:#.2g}')\n",
        "print(f'sigma: {jnp.sqrt(jnp.mean(bart.sigma ** 2)):#.2g}')\n",
        "print(f'time: {(end - start) / 60:#.2g} min')"
      ],
      "metadata": {
        "colab": {
          "base_uri": "https://localhost:8080/"
        },
        "id": "WoxELDG6Xbbn",
        "outputId": "f2d6aa76-123b-420e-c903-df9e362b9e50"
      },
      "execution_count": null,
      "outputs": [
        {
          "output_type": "stream",
          "name": "stdout",
          "text": [
            "Iteration   10/1100 P_grow=0.53 P_prune=0.47 A_grow=0.32 A_prune=0.35 (burnin)\n",
            "Iteration   20/1100 P_grow=0.52 P_prune=0.48 A_grow=0.32 A_prune=0.35 (burnin)\n",
            "Iteration   30/1100 P_grow=0.53 P_prune=0.47 A_grow=0.32 A_prune=0.36 (burnin)\n",
            "Iteration   40/1100 P_grow=0.53 P_prune=0.47 A_grow=0.31 A_prune=0.34 (burnin)\n",
            "Iteration   50/1100 P_grow=0.52 P_prune=0.48 A_grow=0.31 A_prune=0.35 (burnin)\n",
            "Iteration   60/1100 P_grow=0.54 P_prune=0.46 A_grow=0.31 A_prune=0.33 (burnin)\n",
            "Iteration   70/1100 P_grow=0.53 P_prune=0.47 A_grow=0.31 A_prune=0.34 (burnin)\n",
            "Iteration   80/1100 P_grow=0.53 P_prune=0.47 A_grow=0.31 A_prune=0.34 (burnin)\n",
            "Iteration   90/1100 P_grow=0.54 P_prune=0.46 A_grow=0.31 A_prune=0.34 (burnin)\n",
            "Iteration  100/1100 P_grow=0.53 P_prune=0.47 A_grow=0.29 A_prune=0.34 (burnin)\n",
            "Iteration  110/1100 P_grow=0.52 P_prune=0.48 A_grow=0.31 A_prune=0.33\n",
            "Iteration  120/1100 P_grow=0.53 P_prune=0.47 A_grow=0.30 A_prune=0.33\n",
            "Iteration  130/1100 P_grow=0.52 P_prune=0.48 A_grow=0.31 A_prune=0.33\n",
            "Iteration  140/1100 P_grow=0.52 P_prune=0.48 A_grow=0.30 A_prune=0.33\n",
            "Iteration  150/1100 P_grow=0.52 P_prune=0.48 A_grow=0.31 A_prune=0.33\n",
            "Iteration  160/1100 P_grow=0.53 P_prune=0.47 A_grow=0.30 A_prune=0.33\n",
            "Iteration  170/1100 P_grow=0.53 P_prune=0.47 A_grow=0.30 A_prune=0.34\n",
            "Iteration  180/1100 P_grow=0.53 P_prune=0.47 A_grow=0.30 A_prune=0.35\n",
            "Iteration  190/1100 P_grow=0.53 P_prune=0.47 A_grow=0.30 A_prune=0.33\n",
            "Iteration  200/1100 P_grow=0.53 P_prune=0.47 A_grow=0.29 A_prune=0.32\n",
            "Iteration  210/1100 P_grow=0.54 P_prune=0.46 A_grow=0.29 A_prune=0.33\n",
            "Iteration  220/1100 P_grow=0.52 P_prune=0.48 A_grow=0.31 A_prune=0.34\n",
            "Iteration  230/1100 P_grow=0.53 P_prune=0.47 A_grow=0.30 A_prune=0.33\n",
            "Iteration  240/1100 P_grow=0.53 P_prune=0.47 A_grow=0.31 A_prune=0.33\n",
            "Iteration  250/1100 P_grow=0.53 P_prune=0.47 A_grow=0.30 A_prune=0.33\n",
            "Iteration  260/1100 P_grow=0.52 P_prune=0.48 A_grow=0.31 A_prune=0.33\n",
            "Iteration  270/1100 P_grow=0.52 P_prune=0.48 A_grow=0.30 A_prune=0.34\n",
            "Iteration  280/1100 P_grow=0.54 P_prune=0.46 A_grow=0.30 A_prune=0.35\n",
            "Iteration  290/1100 P_grow=0.53 P_prune=0.47 A_grow=0.29 A_prune=0.33\n",
            "Iteration  300/1100 P_grow=0.52 P_prune=0.48 A_grow=0.29 A_prune=0.33\n",
            "Iteration  310/1100 P_grow=0.53 P_prune=0.47 A_grow=0.30 A_prune=0.32\n",
            "Iteration  320/1100 P_grow=0.53 P_prune=0.47 A_grow=0.29 A_prune=0.33\n",
            "Iteration  330/1100 P_grow=0.53 P_prune=0.47 A_grow=0.29 A_prune=0.33\n",
            "Iteration  340/1100 P_grow=0.52 P_prune=0.48 A_grow=0.30 A_prune=0.33\n",
            "Iteration  350/1100 P_grow=0.54 P_prune=0.46 A_grow=0.30 A_prune=0.34\n",
            "Iteration  360/1100 P_grow=0.53 P_prune=0.47 A_grow=0.29 A_prune=0.34\n",
            "Iteration  370/1100 P_grow=0.53 P_prune=0.47 A_grow=0.30 A_prune=0.34\n",
            "Iteration  380/1100 P_grow=0.53 P_prune=0.47 A_grow=0.29 A_prune=0.33\n",
            "Iteration  390/1100 P_grow=0.53 P_prune=0.47 A_grow=0.30 A_prune=0.34\n",
            "Iteration  400/1100 P_grow=0.53 P_prune=0.47 A_grow=0.30 A_prune=0.33\n",
            "Iteration  410/1100 P_grow=0.53 P_prune=0.47 A_grow=0.30 A_prune=0.33\n",
            "Iteration  420/1100 P_grow=0.53 P_prune=0.47 A_grow=0.28 A_prune=0.32\n",
            "Iteration  430/1100 P_grow=0.54 P_prune=0.46 A_grow=0.30 A_prune=0.33\n",
            "Iteration  440/1100 P_grow=0.53 P_prune=0.47 A_grow=0.30 A_prune=0.34\n",
            "Iteration  450/1100 P_grow=0.53 P_prune=0.47 A_grow=0.29 A_prune=0.32\n",
            "Iteration  460/1100 P_grow=0.52 P_prune=0.48 A_grow=0.30 A_prune=0.32\n",
            "Iteration  470/1100 P_grow=0.54 P_prune=0.46 A_grow=0.29 A_prune=0.34\n",
            "Iteration  480/1100 P_grow=0.53 P_prune=0.47 A_grow=0.29 A_prune=0.32\n",
            "Iteration  490/1100 P_grow=0.54 P_prune=0.46 A_grow=0.30 A_prune=0.31\n",
            "Iteration  500/1100 P_grow=0.54 P_prune=0.46 A_grow=0.29 A_prune=0.34\n",
            "Iteration  510/1100 P_grow=0.54 P_prune=0.46 A_grow=0.31 A_prune=0.32\n",
            "Iteration  520/1100 P_grow=0.53 P_prune=0.47 A_grow=0.30 A_prune=0.33\n",
            "Iteration  530/1100 P_grow=0.53 P_prune=0.47 A_grow=0.29 A_prune=0.32\n",
            "Iteration  540/1100 P_grow=0.52 P_prune=0.48 A_grow=0.30 A_prune=0.33\n",
            "Iteration  550/1100 P_grow=0.53 P_prune=0.47 A_grow=0.28 A_prune=0.34\n",
            "Iteration  560/1100 P_grow=0.52 P_prune=0.48 A_grow=0.30 A_prune=0.33\n",
            "Iteration  570/1100 P_grow=0.52 P_prune=0.48 A_grow=0.29 A_prune=0.33\n",
            "Iteration  580/1100 P_grow=0.53 P_prune=0.47 A_grow=0.30 A_prune=0.31\n",
            "Iteration  590/1100 P_grow=0.53 P_prune=0.47 A_grow=0.29 A_prune=0.34\n",
            "Iteration  600/1100 P_grow=0.52 P_prune=0.48 A_grow=0.29 A_prune=0.33\n",
            "Iteration  610/1100 P_grow=0.52 P_prune=0.48 A_grow=0.28 A_prune=0.33\n",
            "Iteration  620/1100 P_grow=0.52 P_prune=0.48 A_grow=0.29 A_prune=0.33\n",
            "Iteration  630/1100 P_grow=0.53 P_prune=0.47 A_grow=0.30 A_prune=0.33\n",
            "Iteration  640/1100 P_grow=0.53 P_prune=0.47 A_grow=0.29 A_prune=0.32\n",
            "Iteration  650/1100 P_grow=0.52 P_prune=0.48 A_grow=0.29 A_prune=0.32\n",
            "Iteration  660/1100 P_grow=0.52 P_prune=0.48 A_grow=0.29 A_prune=0.32\n",
            "Iteration  670/1100 P_grow=0.53 P_prune=0.47 A_grow=0.30 A_prune=0.32\n",
            "Iteration  680/1100 P_grow=0.53 P_prune=0.47 A_grow=0.29 A_prune=0.33\n",
            "Iteration  690/1100 P_grow=0.53 P_prune=0.47 A_grow=0.29 A_prune=0.33\n",
            "Iteration  700/1100 P_grow=0.53 P_prune=0.47 A_grow=0.29 A_prune=0.32\n",
            "Iteration  710/1100 P_grow=0.53 P_prune=0.47 A_grow=0.29 A_prune=0.34\n",
            "Iteration  720/1100 P_grow=0.53 P_prune=0.47 A_grow=0.29 A_prune=0.33\n",
            "Iteration  730/1100 P_grow=0.52 P_prune=0.48 A_grow=0.29 A_prune=0.34\n",
            "Iteration  740/1100 P_grow=0.53 P_prune=0.47 A_grow=0.30 A_prune=0.32\n",
            "Iteration  750/1100 P_grow=0.53 P_prune=0.47 A_grow=0.30 A_prune=0.31\n",
            "Iteration  760/1100 P_grow=0.53 P_prune=0.47 A_grow=0.28 A_prune=0.32\n",
            "Iteration  770/1100 P_grow=0.53 P_prune=0.47 A_grow=0.30 A_prune=0.33\n",
            "Iteration  780/1100 P_grow=0.53 P_prune=0.47 A_grow=0.29 A_prune=0.32\n",
            "Iteration  790/1100 P_grow=0.52 P_prune=0.48 A_grow=0.29 A_prune=0.32\n",
            "Iteration  800/1100 P_grow=0.53 P_prune=0.47 A_grow=0.30 A_prune=0.33\n",
            "Iteration  810/1100 P_grow=0.53 P_prune=0.47 A_grow=0.29 A_prune=0.32\n",
            "Iteration  820/1100 P_grow=0.53 P_prune=0.47 A_grow=0.30 A_prune=0.33\n",
            "Iteration  830/1100 P_grow=0.53 P_prune=0.47 A_grow=0.28 A_prune=0.33\n",
            "Iteration  840/1100 P_grow=0.52 P_prune=0.48 A_grow=0.28 A_prune=0.33\n",
            "Iteration  850/1100 P_grow=0.53 P_prune=0.47 A_grow=0.29 A_prune=0.32\n",
            "Iteration  860/1100 P_grow=0.53 P_prune=0.47 A_grow=0.28 A_prune=0.32\n",
            "Iteration  870/1100 P_grow=0.52 P_prune=0.48 A_grow=0.30 A_prune=0.32\n",
            "Iteration  880/1100 P_grow=0.53 P_prune=0.47 A_grow=0.30 A_prune=0.32\n",
            "Iteration  890/1100 P_grow=0.52 P_prune=0.48 A_grow=0.29 A_prune=0.34\n",
            "Iteration  900/1100 P_grow=0.54 P_prune=0.46 A_grow=0.28 A_prune=0.33\n",
            "Iteration  910/1100 P_grow=0.53 P_prune=0.47 A_grow=0.30 A_prune=0.33\n",
            "Iteration  920/1100 P_grow=0.53 P_prune=0.47 A_grow=0.28 A_prune=0.33\n",
            "Iteration  930/1100 P_grow=0.53 P_prune=0.47 A_grow=0.30 A_prune=0.32\n",
            "Iteration  940/1100 P_grow=0.53 P_prune=0.47 A_grow=0.29 A_prune=0.33\n",
            "Iteration  950/1100 P_grow=0.52 P_prune=0.48 A_grow=0.29 A_prune=0.32\n",
            "Iteration  960/1100 P_grow=0.53 P_prune=0.47 A_grow=0.28 A_prune=0.32\n",
            "Iteration  970/1100 P_grow=0.52 P_prune=0.48 A_grow=0.29 A_prune=0.32\n",
            "Iteration  980/1100 P_grow=0.53 P_prune=0.47 A_grow=0.29 A_prune=0.33\n",
            "Iteration  990/1100 P_grow=0.52 P_prune=0.48 A_grow=0.28 A_prune=0.32\n",
            "Iteration 1000/1100 P_grow=0.53 P_prune=0.47 A_grow=0.28 A_prune=0.32\n",
            "Iteration 1010/1100 P_grow=0.52 P_prune=0.48 A_grow=0.28 A_prune=0.32\n",
            "Iteration 1020/1100 P_grow=0.52 P_prune=0.48 A_grow=0.28 A_prune=0.32\n",
            "Iteration 1030/1100 P_grow=0.53 P_prune=0.47 A_grow=0.30 A_prune=0.32\n",
            "Iteration 1040/1100 P_grow=0.53 P_prune=0.47 A_grow=0.29 A_prune=0.34\n",
            "Iteration 1050/1100 P_grow=0.53 P_prune=0.47 A_grow=0.28 A_prune=0.32\n",
            "Iteration 1060/1100 P_grow=0.53 P_prune=0.47 A_grow=0.29 A_prune=0.32\n",
            "Iteration 1070/1100 P_grow=0.53 P_prune=0.47 A_grow=0.29 A_prune=0.32\n",
            "Iteration 1080/1100 P_grow=0.53 P_prune=0.47 A_grow=0.28 A_prune=0.32\n",
            "Iteration 1090/1100 P_grow=0.53 P_prune=0.47 A_grow=0.28 A_prune=0.30\n",
            "Iteration 1100/1100 P_grow=0.53 P_prune=0.47 A_grow=0.28 A_prune=0.33\n",
            "RMSE: 28.\n",
            "sigma: 24.\n",
            "time: 5.6 min\n"
          ]
        }
      ]
    }
  ]
}