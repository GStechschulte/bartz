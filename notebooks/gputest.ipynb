{
  "nbformat": 4,
  "nbformat_minor": 0,
  "metadata": {
    "colab": {
      "provenance": [],
      "gpuType": "T4",
      "authorship_tag": "ABX9TyMQDse2A0TIQF4buBXleVtN"
    },
    "kernelspec": {
      "name": "python3",
      "display_name": "Python 3"
    },
    "language_info": {
      "name": "python"
    },
    "accelerator": "GPU"
  },
  "cells": [
    {
      "cell_type": "code",
      "source": [
        "import jax\n",
        "jax.devices()"
      ],
      "metadata": {
        "colab": {
          "base_uri": "https://localhost:8080/"
        },
        "id": "ZTfU4rG0A1OM",
        "outputId": "bb1a8d03-2099-49fc-8c46-dca68c4c9721"
      },
      "execution_count": 4,
      "outputs": [
        {
          "output_type": "execute_result",
          "data": {
            "text/plain": [
              "[cuda(id=0)]"
            ]
          },
          "metadata": {},
          "execution_count": 4
        }
      ]
    },
    {
      "cell_type": "code",
      "source": [
        "%pip install bartz"
      ],
      "metadata": {
        "colab": {
          "base_uri": "https://localhost:8080/"
        },
        "id": "FUKrMezjDHWi",
        "outputId": "e92f8113-bcd6-4d8e-ac8a-95dba72bcf53"
      },
      "execution_count": 15,
      "outputs": [
        {
          "output_type": "stream",
          "name": "stdout",
          "text": [
            "Requirement already satisfied: bartz in /usr/local/lib/python3.10/dist-packages (0.0.1)\n",
            "Requirement already satisfied: jax<0.5.0,>=0.4.23 in /usr/local/lib/python3.10/dist-packages (from bartz) (0.4.23)\n",
            "Requirement already satisfied: jaxlib<0.5.0,>=0.4.23 in /usr/local/lib/python3.10/dist-packages (from bartz) (0.4.23+cuda12.cudnn89)\n",
            "Requirement already satisfied: numpy<2.0.0,>=1.25.2 in /usr/local/lib/python3.10/dist-packages (from bartz) (1.25.2)\n",
            "Requirement already satisfied: scipy<2.0.0,>=1.11.4 in /usr/local/lib/python3.10/dist-packages (from bartz) (1.11.4)\n",
            "Requirement already satisfied: ml-dtypes>=0.2.0 in /usr/local/lib/python3.10/dist-packages (from jax<0.5.0,>=0.4.23->bartz) (0.2.0)\n",
            "Requirement already satisfied: opt-einsum in /usr/local/lib/python3.10/dist-packages (from jax<0.5.0,>=0.4.23->bartz) (3.3.0)\n"
          ]
        }
      ]
    },
    {
      "cell_type": "code",
      "source": [
        "import time\n",
        "\n",
        "from jax import numpy as jnp\n",
        "from jax import random\n",
        "from matplotlib import pyplot as plt\n",
        "import bartz"
      ],
      "metadata": {
        "id": "UQoNsEuVLvC0"
      },
      "execution_count": 16,
      "outputs": []
    },
    {
      "cell_type": "code",
      "source": [
        "# DGP config\n",
        "n = 20000 # number of datapoints (train + test)\n",
        "p = 1 # number of covariates\n",
        "sigma = 0.1 # noise standard deviation\n",
        "def f(x): # conditional mean\n",
        "    R = 2\n",
        "    r2 = jnp.einsum('ij,ij->j', x, x)\n",
        "    return jnp.cos(2 * jnp.pi / R * jnp.sqrt(r2))\n",
        "\n",
        "# generate data\n",
        "key = random.key(202403142235)\n",
        "key, key1, key2, key3 = random.split(key, 4)\n",
        "X = random.normal(key1, (p, n))\n",
        "y = f(X) + sigma * random.normal(key2, (n,))\n",
        "\n",
        "# split in train/test\n",
        "n_train = n // 2\n",
        "X_train, X_test = X[:, :n_train], X[:, n_train:]\n",
        "y_train, y_test = y[:n_train], y[n_train:]\n",
        "\n",
        "class Timer:\n",
        "\n",
        "    def __init__(self, name):\n",
        "        self.name = name\n",
        "        self.start = time.perf_counter()\n",
        "\n",
        "    def __enter__(self):\n",
        "        return self\n",
        "\n",
        "    def __exit__(self, *exc):\n",
        "        self.end = time.perf_counter()\n",
        "        print(f'{self.name}: {self.end - self.start:.2f} s')\n",
        "\n",
        "def task():\n",
        "    return bartz.BART.gbart(X_train, y_train, x_test=X_test, ntree=10, nskip=500, ndpost=500, seed=key3)\n",
        "with jax.default_device(jax.devices('cpu')[0]), Timer('bartz on cpu'):\n",
        "    bart = task()\n",
        "with jax.default_device(jax.devices('gpu')[0]), Timer('bartz on gpu'):\n",
        "    bart = task()"
      ],
      "metadata": {
        "colab": {
          "base_uri": "https://localhost:8080/"
        },
        "id": "riRxwN6uLxqL",
        "outputId": "ca46bb8e-0155-4479-ff93-57375f46df78"
      },
      "execution_count": 37,
      "outputs": [
        {
          "output_type": "stream",
          "name": "stdout",
          "text": [
            "Iteration  100/1000 P_grow=0.60 P_prune=0.40 A_grow=0.33 A_prune=0.00 (burnin)\n",
            "Iteration  200/1000 P_grow=0.80 P_prune=0.20 A_grow=0.00 A_prune=0.00 (burnin)\n",
            "Iteration  300/1000 P_grow=0.50 P_prune=0.50 A_grow=0.00 A_prune=0.00 (burnin)\n",
            "Iteration  400/1000 P_grow=0.50 P_prune=0.50 A_grow=0.00 A_prune=0.00 (burnin)\n",
            "Iteration  500/1000 P_grow=0.70 P_prune=0.30 A_grow=0.00 A_prune=0.00 (burnin)\n",
            "Iteration  600/1000 P_grow=0.50 P_prune=0.50 A_grow=0.00 A_prune=0.00\n",
            "Iteration  700/1000 P_grow=0.60 P_prune=0.40 A_grow=0.17 A_prune=0.00\n",
            "Iteration  800/1000 P_grow=0.10 P_prune=0.90 A_grow=0.00 A_prune=0.11\n",
            "Iteration  900/1000 P_grow=0.60 P_prune=0.40 A_grow=0.00 A_prune=0.00\n",
            "Iteration 1000/1000 P_grow=0.70 P_prune=0.30 A_grow=0.00 A_prune=0.00\n",
            "bartz on cpu: 58.72 s\n",
            "Iteration  100/1000 P_grow=0.60 P_prune=0.40 A_grow=0.33 A_prune=0.00 (burnin)\n",
            "Iteration  200/1000 P_grow=0.80 P_prune=0.20 A_grow=0.00 A_prune=0.00 (burnin)\n",
            "Iteration  300/1000 P_grow=0.50 P_prune=0.50 A_grow=0.00 A_prune=0.00 (burnin)\n",
            "Iteration  400/1000 P_grow=0.50 P_prune=0.50 A_grow=0.00 A_prune=0.00 (burnin)\n",
            "Iteration  500/1000 P_grow=0.70 P_prune=0.30 A_grow=0.00 A_prune=0.00 (burnin)\n",
            "Iteration  600/1000 P_grow=0.50 P_prune=0.50 A_grow=0.00 A_prune=0.00\n",
            "Iteration  700/1000 P_grow=0.60 P_prune=0.40 A_grow=0.17 A_prune=0.00\n",
            "Iteration  800/1000 P_grow=0.10 P_prune=0.90 A_grow=0.00 A_prune=0.11\n",
            "Iteration  900/1000 P_grow=0.60 P_prune=0.40 A_grow=0.00 A_prune=0.00\n",
            "Iteration 1000/1000 P_grow=0.70 P_prune=0.30 A_grow=0.00 A_prune=0.00\n",
            "bartz on gpu: 207.69 s\n"
          ]
        }
      ]
    },
    {
      "cell_type": "code",
      "source": [
        "# compute RMSE\n",
        "resid = y_test - bart.yhat_test_mean\n",
        "rmse = jnp.sqrt(resid @ resid / resid.size)\n",
        "print(f'data sdev = {y_test.std():#.2g}')\n",
        "print(f'sigma: {bart.sigma.mean():#.2g} (true: {sigma:#.2g})')\n",
        "print(f'RMSE: {rmse.item():#.2g}')"
      ],
      "metadata": {
        "colab": {
          "base_uri": "https://localhost:8080/"
        },
        "id": "niD8nzDoMBG9",
        "outputId": "494046cc-59ab-427d-c0e8-f194ab6f614c"
      },
      "execution_count": 21,
      "outputs": [
        {
          "output_type": "stream",
          "name": "stdout",
          "text": [
            "data sdev = 0.74\n",
            "sigma: 0.42 (true: 0.10)\n",
            "RMSE: 0.79\n"
          ]
        }
      ]
    },
    {
      "cell_type": "code",
      "source": [
        "# plot true vs. predicted\n",
        "fig, axs = plt.subplots(1, 2, num='example1', clear=True, figsize=[10, 5])\n",
        "\n",
        "ax = axs[0]\n",
        "l = min(jnp.nanmin(bart.yhat_test_mean), y_test.min())\n",
        "h = max(jnp.nanmax(bart.yhat_test_mean), y_test.max())\n",
        "ax.plot([l, h], [l, h], color='lightgray')\n",
        "ax.plot(bart.yhat_test_mean, y_test, '.')\n",
        "ax.set(xlabel='predicted (post mean)', ylabel='true', title='true vs. predicted on test set')\n",
        "\n",
        "ax = axs[1]\n",
        "ax.plot(X_test[0], y_test, '.', label='data')\n",
        "ax.plot(X_test[0], bart.yhat_test_mean, 'o', label='pred', markerfacecolor='none')\n",
        "ax.legend()"
      ],
      "metadata": {
        "colab": {
          "base_uri": "https://localhost:8080/",
          "height": 483
        },
        "id": "E4iNAmoEMC3-",
        "outputId": "edcdd625-515d-4d25-8464-ac90f2a5f1dc"
      },
      "execution_count": 22,
      "outputs": [
        {
          "output_type": "execute_result",
          "data": {
            "text/plain": [
              "<matplotlib.legend.Legend at 0x79c5140ac580>"
            ]
          },
          "metadata": {},
          "execution_count": 22
        },
        {
          "output_type": "display_data",
          "data": {
            "text/plain": [
              "<Figure size 1000x500 with 2 Axes>"
            ],
            "image/png": "[encoded data removed]"
          },
          "metadata": {}
        }
      ]
    }
  ]
}